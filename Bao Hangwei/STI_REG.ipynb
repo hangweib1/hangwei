{
 "cells": [
  {
   "cell_type": "code",
   "execution_count": 1,
   "id": "c1c9202f",
   "metadata": {},
   "outputs": [],
   "source": [
    "import pandas as pd"
   ]
  },
  {
   "cell_type": "code",
   "execution_count": 2,
   "id": "96ee7d6e",
   "metadata": {},
   "outputs": [],
   "source": [
    "df = pd.read_csv(\"STI Nikkei.csv\")"
   ]
  },
  {
   "cell_type": "code",
   "execution_count": 3,
   "id": "bb8b6215",
   "metadata": {},
   "outputs": [],
   "source": [
    "df = df.dropna()"
   ]
  },
  {
   "cell_type": "code",
   "execution_count": 4,
   "id": "eb8f2027",
   "metadata": {},
   "outputs": [
    {
     "name": "stdout",
     "output_type": "stream",
     "text": [
      "       Index        Date   Nikkei Open  STI Open\n",
      "0        1.0  11/11/2009       9890.18   2718.01\n",
      "1        2.0  11/12/2009       9921.45   2743.45\n",
      "2        3.0    11/13/09       9793.19   2707.76\n",
      "3        4.0    11/16/09       9784.14   2735.73\n",
      "4        5.0    11/17/09       9834.58   2785.94\n",
      "...      ...         ...           ...       ...\n",
      "2995  2996.0    2/8/2022      27318.30   3380.02\n",
      "2996  2997.0    2/9/2022      27488.65   3397.05\n",
      "2997  2998.0   2/10/2022      27818.10   3420.63\n",
      "2998  2999.0    02/14/22      27305.92   3419.52\n",
      "2999  3000.0    02/15/22      27183.56   3418.23\n",
      "\n",
      "[2893 rows x 4 columns]\n"
     ]
    }
   ],
   "source": [
    "print(df)"
   ]
  },
  {
   "cell_type": "code",
   "execution_count": 12,
   "id": "afb34619",
   "metadata": {},
   "outputs": [],
   "source": [
    "x = df.loc[:,[\" Nikkei Open\"]]"
   ]
  },
  {
   "cell_type": "code",
   "execution_count": 13,
   "id": "f54827fa",
   "metadata": {},
   "outputs": [],
   "source": [
    "y = df.loc[:,[\"STI Open\"]]"
   ]
  },
  {
   "cell_type": "code",
   "execution_count": 15,
   "id": "dfd9da71",
   "metadata": {},
   "outputs": [],
   "source": [
    "from sklearn.model_selection import train_test_split"
   ]
  },
  {
   "cell_type": "code",
   "execution_count": 16,
   "id": "ca9d9706",
   "metadata": {},
   "outputs": [],
   "source": [
    "x_train, x_test, y_train, y_test = train_test_split(x,y)"
   ]
  },
  {
   "cell_type": "code",
   "execution_count": 21,
   "id": "449181b5",
   "metadata": {},
   "outputs": [],
   "source": [
    "from sklearn import linear_model"
   ]
  },
  {
   "cell_type": "code",
   "execution_count": 22,
   "id": "faf9328b",
   "metadata": {},
   "outputs": [],
   "source": [
    "model = linear_model.LinearRegression().fit(x_train,y_train)"
   ]
  },
  {
   "cell_type": "code",
   "execution_count": 23,
   "id": "ea0630ef",
   "metadata": {},
   "outputs": [],
   "source": [
    "pred = model.predict(x_test)"
   ]
  },
  {
   "cell_type": "code",
   "execution_count": 25,
   "id": "89826e01",
   "metadata": {},
   "outputs": [],
   "source": [
    "from sklearn.metrics import mean_squared_error"
   ]
  },
  {
   "cell_type": "code",
   "execution_count": 26,
   "id": "cfcf7e44",
   "metadata": {},
   "outputs": [
    {
     "name": "stdout",
     "output_type": "stream",
     "text": [
      "230.81537423687683\n"
     ]
    }
   ],
   "source": [
    "print(mean_squared_error(y_test, pred)**0.5)"
   ]
  },
  {
   "cell_type": "code",
   "execution_count": 27,
   "id": "3f2a7ee1",
   "metadata": {},
   "outputs": [],
   "source": [
    "import joblib"
   ]
  },
  {
   "cell_type": "code",
   "execution_count": 28,
   "id": "b935c8f8",
   "metadata": {},
   "outputs": [
    {
     "data": {
      "text/plain": [
       "['STI_REG']"
      ]
     },
     "execution_count": 28,
     "metadata": {},
     "output_type": "execute_result"
    }
   ],
   "source": [
    "joblib.dump(model, \"STI_REG\")"
   ]
  },
  {
   "cell_type": "code",
   "execution_count": 29,
   "id": "e0d02a6b",
   "metadata": {},
   "outputs": [
    {
     "name": "stdout",
     "output_type": "stream",
     "text": [
      "[[3012.86552585]]\n"
     ]
    }
   ],
   "source": [
    "model_test = joblib.load(\"STI_REG\")\n",
    "print(model_test.predict([[9500]]))"
   ]
  },
  {
   "cell_type": "code",
   "execution_count": null,
   "id": "29d94a47",
   "metadata": {},
   "outputs": [],
   "source": []
  }
 ],
 "metadata": {
  "kernelspec": {
   "display_name": "Python 3",
   "language": "python",
   "name": "python3"
  },
  "language_info": {
   "codemirror_mode": {
    "name": "ipython",
    "version": 3
   },
   "file_extension": ".py",
   "mimetype": "text/x-python",
   "name": "python",
   "nbconvert_exporter": "python",
   "pygments_lexer": "ipython3",
   "version": "3.8.8"
  }
 },
 "nbformat": 4,
 "nbformat_minor": 5
}
